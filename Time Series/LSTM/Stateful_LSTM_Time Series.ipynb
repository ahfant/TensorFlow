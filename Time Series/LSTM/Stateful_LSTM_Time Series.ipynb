{
 "cells": [
  {
   "cell_type": "markdown",
   "metadata": {},
   "source": [
    "# Time Series Prediction with Stateful LSTM\n",
    "\n",
    "### Abstract\n",
    "This Jupyter notebook demonstrates the use of Google Tensorflow to perform a time series prediction task.\n",
    "\n",
    "Here, a recurrent neural network, more specifically a stateful Long Short Term Memory (LSTM) is used.\n",
    "\n",
    "<b>Tested on Google TensorFlow V1.0 (https://github.com/tensorflow/tensorflow)</b>\n",
    "\n",
    "#### References:\n",
    "1. François Chollet's Keras example using <i>stateful LSTM</i> (https://github.com/fchollet/keras/blob/master/examples/stateful_lstm.py)\n",
    "\n",
    "#### Dependencies\n",
    "1. Python 3.5.2\n",
    "2. TensorFlow (GPU) 1.0.1\n",
    "3. Keras 2.0.2 (refer to https://keras.io/backend/ to configure backend)\n",
    "\n",
    "##### Overview:\n",
    "1. Import Libraries \n",
    "2. Setup Environment\n",
    "3. Configure Parameters\n",
    "4. Prepare Data\n",
    "5. Configure LSTM Network\n",
    "6. Train\n",
    "7. Evaluate\n",
    "8. Visualize Prediction"
   ]
  },
  {
   "cell_type": "markdown",
   "metadata": {},
   "source": [
    "### Step 1: Import Libraries"
   ]
  },
  {
   "cell_type": "code",
   "execution_count": 1,
   "metadata": {
    "collapsed": false
   },
   "outputs": [
    {
     "name": "stderr",
     "output_type": "stream",
     "text": [
      "Using TensorFlow backend.\n"
     ]
    }
   ],
   "source": [
    "# Generic Libraries\n",
    "import os, sys, warnings\n",
    "import numpy as np\n",
    "import math\n",
    "import pandas as pd\n",
    "import matplotlib.pyplot as plt\n",
    "from sklearn.preprocessing import MinMaxScaler\n",
    "from sklearn.metrics import mean_squared_error\n",
    "\n",
    "# ML Libraries\n",
    "import keras\n",
    "import tensorflow as tf\n",
    "\n",
    "# Keras Libraries\n",
    "from keras.models import Sequential\n",
    "from keras.layers import Dense, LSTM"
   ]
  },
  {
   "cell_type": "markdown",
   "metadata": {},
   "source": [
    "### Step 2: Setup Environment"
   ]
  },
  {
   "cell_type": "code",
   "execution_count": 2,
   "metadata": {
    "collapsed": false
   },
   "outputs": [
    {
     "name": "stdout",
     "output_type": "stream",
     "text": [
      "python:3.5.2 |Anaconda 4.3.1 (64-bit)| (default, Jul  5 2016, 11:41:13) [MSC v.1900 64 bit (AMD64)], \n",
      "keras:2.0.2, \n",
      "tensorflow:1.0.1\n"
     ]
    }
   ],
   "source": [
    "# enable inline plotting of graphs within Jupyter notebook\n",
    "%matplotlib inline\n",
    "\n",
    "# ensure reproducible output\n",
    "np.random.seed(7)\n",
    "\n",
    "# suppress non-essential warnings\n",
    "os.environ['TF_CPP_MI_LOG_LEVEL'] = '3' # tensorflow\n",
    "#warnings.filterwarnings(\"ignore\") # numpy\n",
    "\n",
    "# confirm versions of key libraries\n",
    "print(\"python:{}, \\nkeras:{}, \\ntensorflow:{}\".format(sys.version, keras.__version__, tf.__version__))"
   ]
  },
  {
   "cell_type": "markdown",
   "metadata": {},
   "source": [
    "### Step 3: Configure Parameters"
   ]
  },
  {
   "cell_type": "code",
   "execution_count": 3,
   "metadata": {
    "collapsed": true
   },
   "outputs": [],
   "source": [
    "# Hyper-parameters\n",
    "timesteps    = 1   # using stateful LSTM\n",
    "batch_size   = 1   # using stateful LSTM\n",
    "epochs       = 100\n",
    "#lookahead    = 1    # number of elements ahead to predict\n",
    "num_features = 1    # number of features"
   ]
  },
  {
   "cell_type": "markdown",
   "metadata": {},
   "source": [
    "### Step 4: Prepare Data\n",
    "\n",
    "1. Load Data\n",
    "2. Normalize OR Standardize Data - state difference\n",
    "3. Prepare Train/Test Samples"
   ]
  },
  {
   "cell_type": "code",
   "execution_count": 4,
   "metadata": {
    "collapsed": true
   },
   "outputs": [],
   "source": [
    "def load_dataset(filename, header, usecols, skipfooter):\n",
    "    df = pd.read_csv(filename, header=header, usecols=usecols, skipfooter=skipfooter, engine='python')\n",
    "    print(df.describe())\n",
    "    dataset = df.values\n",
    "    dataset = dataset.astype('float32')    \n",
    "    return dataset"
   ]
  },
  {
   "cell_type": "code",
   "execution_count": 5,
   "metadata": {
    "collapsed": false
   },
   "outputs": [
    {
     "name": "stdout",
     "output_type": "stream",
     "text": [
      "       International airline passengers: monthly totals in thousands. Jan 49 - Dec 60\n",
      "count                                         144.000000                             \n",
      "mean                                          280.298611                             \n",
      "std                                           119.966317                             \n",
      "min                                           104.000000                             \n",
      "25%                                           180.000000                             \n",
      "50%                                           265.500000                             \n",
      "75%                                           360.500000                             \n",
      "max                                           622.000000                             \n"
     ]
    }
   ],
   "source": [
    "# load the dataset\n",
    "# https://datamarket.com/data/set/22u3/international-airline-passengers-monthly-totals-in-thousands-jan-49-dec-60#!ds=22u3&display=line    \n",
    "dataset = load_dataset(filename='data/international-airline-passengers.csv', header='infer', usecols=[1], skipfooter=2)"
   ]
  },
  {
   "cell_type": "code",
   "execution_count": 6,
   "metadata": {
    "collapsed": true
   },
   "outputs": [],
   "source": [
    "# normalize using MinMax to obtain a range of (0,1)\n",
    "def normalize_dataset(dataset):\n",
    "    scaler = MinMaxScaler(feature_range=(0, 1))\n",
    "    return scaler, scaler.fit_transform(dataset)"
   ]
  },
  {
   "cell_type": "code",
   "execution_count": 7,
   "metadata": {
    "collapsed": false
   },
   "outputs": [
    {
     "name": "stdout",
     "output_type": "stream",
     "text": [
      "Dataset normalized.\n"
     ]
    }
   ],
   "source": [
    "scaler, dataset_norm = normalize_dataset(dataset)\n",
    "print('Dataset normalized.')"
   ]
  },
  {
   "cell_type": "code",
   "execution_count": 8,
   "metadata": {
    "collapsed": true
   },
   "outputs": [],
   "source": [
    "# convert an array of values into train and test data\n",
    "def split_train_test_data(dataset, look_back, split):\n",
    "    dataX, dataY = [], []\n",
    "    for i in range(len(dataset) - look_back):\n",
    "        dataX.append(dataset[i:(i + look_back), 0])\n",
    "        dataY.append(dataset[i + look_back, 0])\n",
    "    \n",
    "    dataX = np.array(dataX)\n",
    "    dataY = np.array(dataY)\n",
    "\n",
    "    # split into train and test sets\n",
    "    train_size = int(len(dataset) * split)\n",
    "    test_size = len(dataset) - train_size\n",
    "    trainX, testX = dataX[0:train_size,:], dataX[train_size:len(dataX),:]\n",
    "    trainY, testY = dataY[0:train_size], dataY[train_size:len(dataY)]\n",
    "\n",
    "    # reshape input to be [samples, time steps, features]\n",
    "    trainX = np.reshape(trainX, (trainX.shape[0], trainX.shape[1], 1))\n",
    "    testX = np.reshape(testX, (testX.shape[0], testX.shape[1], 1))\n",
    "    \n",
    "    # add last entry from dataset to be able to predict unknown testY\n",
    "    temp = dataset[len(dataset_norm) - timesteps:len(dataset_norm), 0]\n",
    "    temp = np.reshape(temp, (1, temp.shape[0]))\n",
    "    temp = np.reshape(temp, (temp.shape[0], temp.shape[1], 1))\n",
    "    testX = np.append(testX, temp, 0)\n",
    "    \n",
    "    return trainX, trainY, testX, testY"
   ]
  },
  {
   "cell_type": "code",
   "execution_count": 9,
   "metadata": {
    "collapsed": false
   },
   "outputs": [
    {
     "name": "stdout",
     "output_type": "stream",
     "text": [
      "Data split into train and test set.\n"
     ]
    }
   ],
   "source": [
    "trainX, trainY, testX, testY = split_train_test_data(dataset_norm, look_back=timesteps, split=0.67)\n",
    "print('Data split into train and test set.')"
   ]
  },
  {
   "cell_type": "markdown",
   "metadata": {},
   "source": [
    "### Step 5: Configure LSTM Network"
   ]
  },
  {
   "cell_type": "code",
   "execution_count": 10,
   "metadata": {
    "collapsed": true
   },
   "outputs": [],
   "source": [
    "def build_model():\n",
    "    model = Sequential()\n",
    "    model.add(LSTM(4, \n",
    "                   batch_input_shape=(batch_size, timesteps, num_features), \n",
    "                   stateful=True, \n",
    "                   return_sequences=True))\n",
    "    model.add(LSTM(4, # There is no need for an batch_input_shape in the second layer\n",
    "                   return_sequences=False,\n",
    "                   stateful=True)) \n",
    "    model.add(Dense(1))\n",
    "    model.compile(loss='mean_squared_error', optimizer='adam')\n",
    "    return model"
   ]
  },
  {
   "cell_type": "code",
   "execution_count": 11,
   "metadata": {
    "collapsed": false
   },
   "outputs": [
    {
     "name": "stdout",
     "output_type": "stream",
     "text": [
      "Model Summary\n",
      "_________________________________________________________________\n",
      "Layer (type)                 Output Shape              Param #   \n",
      "=================================================================\n",
      "lstm_1 (LSTM)                (1, 1, 4)                 96        \n",
      "_________________________________________________________________\n",
      "lstm_2 (LSTM)                (1, 4)                    144       \n",
      "_________________________________________________________________\n",
      "dense_1 (Dense)              (1, 1)                    5         \n",
      "=================================================================\n",
      "Total params: 245.0\n",
      "Trainable params: 245\n",
      "Non-trainable params: 0.0\n",
      "_________________________________________________________________\n"
     ]
    }
   ],
   "source": [
    "print('Model Summary')\n",
    "\n",
    "model = build_model()\n",
    "model.summary()"
   ]
  },
  {
   "cell_type": "markdown",
   "metadata": {},
   "source": [
    "### Step 6: Train"
   ]
  },
  {
   "cell_type": "code",
   "execution_count": 12,
   "metadata": {
    "collapsed": false
   },
   "outputs": [
    {
     "name": "stdout",
     "output_type": "stream",
     "text": [
      "Start training...\n",
      "Epoch 1 / 100\n",
      "Epoch 1/1\n",
      "2s - loss: 0.0053\n",
      "Epoch 2 / 100\n",
      "Epoch 1/1\n",
      "0s - loss: 0.0130\n",
      "Epoch 3 / 100\n",
      "Epoch 1/1\n",
      "0s - loss: 0.0084\n",
      "Epoch 4 / 100\n",
      "Epoch 1/1\n",
      "0s - loss: 0.0054\n",
      "Epoch 5 / 100\n",
      "Epoch 1/1\n",
      "0s - loss: 0.0045\n",
      "Epoch 6 / 100\n",
      "Epoch 1/1\n",
      "0s - loss: 0.0044\n",
      "Epoch 7 / 100\n",
      "Epoch 1/1\n",
      "0s - loss: 0.0044\n",
      "Epoch 8 / 100\n",
      "Epoch 1/1\n",
      "0s - loss: 0.0045\n",
      "Epoch 9 / 100\n",
      "Epoch 1/1\n",
      "0s - loss: 0.0045\n",
      "Epoch 10 / 100\n",
      "Epoch 1/1\n",
      "0s - loss: 0.0045\n",
      "Epoch 11 / 100\n",
      "Epoch 1/1\n",
      "0s - loss: 0.0045\n",
      "Epoch 12 / 100\n",
      "Epoch 1/1\n",
      "0s - loss: 0.0045\n",
      "Epoch 13 / 100\n",
      "Epoch 1/1\n",
      "0s - loss: 0.0045\n",
      "Epoch 14 / 100\n",
      "Epoch 1/1\n",
      "0s - loss: 0.0044\n",
      "Epoch 15 / 100\n",
      "Epoch 1/1\n",
      "0s - loss: 0.0044\n",
      "Epoch 16 / 100\n",
      "Epoch 1/1\n",
      "0s - loss: 0.0044\n",
      "Epoch 17 / 100\n",
      "Epoch 1/1\n",
      "0s - loss: 0.0044\n",
      "Epoch 18 / 100\n",
      "Epoch 1/1\n",
      "0s - loss: 0.0044\n",
      "Epoch 19 / 100\n",
      "Epoch 1/1\n",
      "0s - loss: 0.0044\n",
      "Epoch 20 / 100\n",
      "Epoch 1/1\n",
      "0s - loss: 0.0043\n",
      "Epoch 21 / 100\n",
      "Epoch 1/1\n",
      "0s - loss: 0.0043\n",
      "Epoch 22 / 100\n",
      "Epoch 1/1\n",
      "0s - loss: 0.0043\n",
      "Epoch 23 / 100\n",
      "Epoch 1/1\n",
      "0s - loss: 0.0043\n",
      "Epoch 24 / 100\n",
      "Epoch 1/1\n",
      "0s - loss: 0.0043\n",
      "Epoch 25 / 100\n",
      "Epoch 1/1\n",
      "0s - loss: 0.0043\n",
      "Epoch 26 / 100\n",
      "Epoch 1/1\n",
      "0s - loss: 0.0043\n",
      "Epoch 27 / 100\n",
      "Epoch 1/1\n",
      "0s - loss: 0.0042\n",
      "Epoch 28 / 100\n",
      "Epoch 1/1\n",
      "0s - loss: 0.0042\n",
      "Epoch 29 / 100\n",
      "Epoch 1/1\n",
      "0s - loss: 0.0042\n",
      "Epoch 30 / 100\n",
      "Epoch 1/1\n",
      "0s - loss: 0.0042\n",
      "Epoch 31 / 100\n",
      "Epoch 1/1\n",
      "0s - loss: 0.0042\n",
      "Epoch 32 / 100\n",
      "Epoch 1/1\n",
      "0s - loss: 0.0041\n",
      "Epoch 33 / 100\n",
      "Epoch 1/1\n",
      "0s - loss: 0.0041\n",
      "Epoch 34 / 100\n",
      "Epoch 1/1\n",
      "0s - loss: 0.0041\n",
      "Epoch 35 / 100\n",
      "Epoch 1/1\n",
      "0s - loss: 0.0041\n",
      "Epoch 36 / 100\n",
      "Epoch 1/1\n",
      "0s - loss: 0.0040\n",
      "Epoch 37 / 100\n",
      "Epoch 1/1\n",
      "0s - loss: 0.0040\n",
      "Epoch 38 / 100\n",
      "Epoch 1/1\n",
      "0s - loss: 0.0040\n",
      "Epoch 39 / 100\n",
      "Epoch 1/1\n",
      "0s - loss: 0.0039\n",
      "Epoch 40 / 100\n",
      "Epoch 1/1\n",
      "0s - loss: 0.0039\n",
      "Epoch 41 / 100\n",
      "Epoch 1/1\n",
      "0s - loss: 0.0039\n",
      "Epoch 42 / 100\n",
      "Epoch 1/1\n",
      "0s - loss: 0.0038\n",
      "Epoch 43 / 100\n",
      "Epoch 1/1\n",
      "0s - loss: 0.0038\n",
      "Epoch 44 / 100\n",
      "Epoch 1/1\n",
      "0s - loss: 0.0038\n",
      "Epoch 45 / 100\n",
      "Epoch 1/1\n",
      "0s - loss: 0.0037\n",
      "Epoch 46 / 100\n",
      "Epoch 1/1\n",
      "0s - loss: 0.0037\n",
      "Epoch 47 / 100\n",
      "Epoch 1/1\n",
      "0s - loss: 0.0036\n",
      "Epoch 48 / 100\n",
      "Epoch 1/1\n",
      "0s - loss: 0.0036\n",
      "Epoch 49 / 100\n",
      "Epoch 1/1\n",
      "0s - loss: 0.0035\n",
      "Epoch 50 / 100\n",
      "Epoch 1/1\n",
      "0s - loss: 0.0035\n",
      "Epoch 51 / 100\n",
      "Epoch 1/1\n",
      "0s - loss: 0.0034\n",
      "Epoch 52 / 100\n",
      "Epoch 1/1\n",
      "0s - loss: 0.0034\n",
      "Epoch 53 / 100\n",
      "Epoch 1/1\n",
      "0s - loss: 0.0033\n",
      "Epoch 54 / 100\n",
      "Epoch 1/1\n",
      "0s - loss: 0.0033\n",
      "Epoch 55 / 100\n",
      "Epoch 1/1\n",
      "0s - loss: 0.0032\n",
      "Epoch 56 / 100\n",
      "Epoch 1/1\n",
      "0s - loss: 0.0031\n",
      "Epoch 57 / 100\n",
      "Epoch 1/1\n",
      "0s - loss: 0.0031\n",
      "Epoch 58 / 100\n",
      "Epoch 1/1\n",
      "0s - loss: 0.0030\n",
      "Epoch 59 / 100\n",
      "Epoch 1/1\n",
      "0s - loss: 0.0029\n",
      "Epoch 60 / 100\n",
      "Epoch 1/1\n",
      "0s - loss: 0.0029\n",
      "Epoch 61 / 100\n",
      "Epoch 1/1\n",
      "0s - loss: 0.0028\n",
      "Epoch 62 / 100\n",
      "Epoch 1/1\n",
      "0s - loss: 0.0027\n",
      "Epoch 63 / 100\n",
      "Epoch 1/1\n",
      "0s - loss: 0.0027\n",
      "Epoch 64 / 100\n",
      "Epoch 1/1\n",
      "0s - loss: 0.0026\n",
      "Epoch 65 / 100\n",
      "Epoch 1/1\n",
      "0s - loss: 0.0026\n",
      "Epoch 66 / 100\n",
      "Epoch 1/1\n",
      "0s - loss: 0.0025\n",
      "Epoch 67 / 100\n",
      "Epoch 1/1\n",
      "0s - loss: 0.0025\n",
      "Epoch 68 / 100\n",
      "Epoch 1/1\n",
      "0s - loss: 0.0024\n",
      "Epoch 69 / 100\n",
      "Epoch 1/1\n",
      "0s - loss: 0.0024\n",
      "Epoch 70 / 100\n",
      "Epoch 1/1\n",
      "0s - loss: 0.0023\n",
      "Epoch 71 / 100\n",
      "Epoch 1/1\n",
      "0s - loss: 0.0023\n",
      "Epoch 72 / 100\n",
      "Epoch 1/1\n",
      "0s - loss: 0.0022\n",
      "Epoch 73 / 100\n",
      "Epoch 1/1\n",
      "0s - loss: 0.0022\n",
      "Epoch 74 / 100\n",
      "Epoch 1/1\n",
      "0s - loss: 0.0021\n",
      "Epoch 75 / 100\n",
      "Epoch 1/1\n",
      "0s - loss: 0.0021\n",
      "Epoch 76 / 100\n",
      "Epoch 1/1\n",
      "0s - loss: 0.0021\n",
      "Epoch 77 / 100\n",
      "Epoch 1/1\n",
      "0s - loss: 0.0020\n",
      "Epoch 78 / 100\n",
      "Epoch 1/1\n",
      "0s - loss: 0.0020\n",
      "Epoch 79 / 100\n",
      "Epoch 1/1\n",
      "0s - loss: 0.0020\n",
      "Epoch 80 / 100\n",
      "Epoch 1/1\n",
      "0s - loss: 0.0020\n",
      "Epoch 81 / 100\n",
      "Epoch 1/1\n",
      "0s - loss: 0.0019\n",
      "Epoch 82 / 100\n",
      "Epoch 1/1\n",
      "0s - loss: 0.0019\n",
      "Epoch 83 / 100\n",
      "Epoch 1/1\n",
      "0s - loss: 0.0019\n",
      "Epoch 84 / 100\n",
      "Epoch 1/1\n",
      "0s - loss: 0.0019\n",
      "Epoch 85 / 100\n",
      "Epoch 1/1\n",
      "0s - loss: 0.0019\n",
      "Epoch 86 / 100\n",
      "Epoch 1/1\n",
      "0s - loss: 0.0018\n",
      "Epoch 87 / 100\n",
      "Epoch 1/1\n",
      "0s - loss: 0.0018\n",
      "Epoch 88 / 100\n",
      "Epoch 1/1\n",
      "0s - loss: 0.0018\n",
      "Epoch 89 / 100\n",
      "Epoch 1/1\n",
      "0s - loss: 0.0018\n",
      "Epoch 90 / 100\n",
      "Epoch 1/1\n",
      "0s - loss: 0.0018\n",
      "Epoch 91 / 100\n",
      "Epoch 1/1\n",
      "0s - loss: 0.0018\n",
      "Epoch 92 / 100\n",
      "Epoch 1/1\n",
      "0s - loss: 0.0018\n",
      "Epoch 93 / 100\n",
      "Epoch 1/1\n",
      "0s - loss: 0.0018\n",
      "Epoch 94 / 100\n",
      "Epoch 1/1\n",
      "0s - loss: 0.0017\n",
      "Epoch 95 / 100\n",
      "Epoch 1/1\n",
      "0s - loss: 0.0017\n",
      "Epoch 96 / 100\n",
      "Epoch 1/1\n",
      "0s - loss: 0.0017\n",
      "Epoch 97 / 100\n",
      "Epoch 1/1\n",
      "0s - loss: 0.0017\n",
      "Epoch 98 / 100\n",
      "Epoch 1/1\n",
      "0s - loss: 0.0017\n",
      "Epoch 99 / 100\n",
      "Epoch 1/1\n",
      "0s - loss: 0.0017\n",
      "Epoch 100 / 100\n",
      "Epoch 1/1\n",
      "0s - loss: 0.0017\n"
     ]
    }
   ],
   "source": [
    "print('Start training...')\n",
    "for i in range(epochs):\n",
    "    print('Epoch', i+1, '/', epochs)\n",
    "\n",
    "    # Note that the last state for sample i in a batch will\n",
    "    # be used as initial state for sample i in the next batch.\n",
    "    # Thus we are simultaneously training on batch_size series with\n",
    "    # lower resolution than the original series contained in cos.\n",
    "    # Each of these series are offset by one step and can be\n",
    "    # extracted with cos[i::batch_size].\n",
    "    \n",
    "    model.fit(trainX, \n",
    "              trainY, \n",
    "              epochs=1, \n",
    "              batch_size=batch_size, \n",
    "              verbose=2, \n",
    "              shuffle=False)    \n",
    "    model.reset_states() # required for stateful LSTMs"
   ]
  },
  {
   "cell_type": "markdown",
   "metadata": {},
   "source": [
    "### Step 7: Evaluate"
   ]
  },
  {
   "cell_type": "code",
   "execution_count": 13,
   "metadata": {
    "collapsed": false
   },
   "outputs": [
    {
     "name": "stdout",
     "output_type": "stream",
     "text": [
      "Prediction performed against train and test data.\n"
     ]
    }
   ],
   "source": [
    "# make predictions on train and test\n",
    "\n",
    "# train data\n",
    "trainPredict = model.predict(trainX, batch_size=batch_size)\n",
    "\n",
    "# reset states\n",
    "model.reset_states()\n",
    "\n",
    "# test data\n",
    "testPredict = model.predict(testX, batch_size=batch_size)\n",
    "\n",
    "print('Prediction performed against train and test data.')"
   ]
  },
  {
   "cell_type": "code",
   "execution_count": 14,
   "metadata": {
    "collapsed": false
   },
   "outputs": [],
   "source": [
    "# invert predictions to revert to initial scale\n",
    "trainPredict = scaler.inverse_transform(trainPredict)\n",
    "trainY = scaler.inverse_transform([trainY])\n",
    "\n",
    "testPredict = scaler.inverse_transform(testPredict)\n",
    "testY = scaler.inverse_transform([testY])"
   ]
  },
  {
   "cell_type": "code",
   "execution_count": 15,
   "metadata": {
    "collapsed": false
   },
   "outputs": [
    {
     "name": "stdout",
     "output_type": "stream",
     "text": [
      "Prediction of the next value: 397.0\n"
     ]
    }
   ],
   "source": [
    "# print next predicted value\n",
    "print('Prediction of the next value:', round(testPredict[len(testPredict) - 1, 0]))"
   ]
  },
  {
   "cell_type": "code",
   "execution_count": 16,
   "metadata": {
    "collapsed": false
   },
   "outputs": [
    {
     "name": "stdout",
     "output_type": "stream",
     "text": [
      "Train Score: 21.15 RMSE\n"
     ]
    }
   ],
   "source": [
    "# calculate root mean squared error\n",
    "trainScore = math.sqrt(mean_squared_error(trainY[0], trainPredict[:,0]))\n",
    "print('Train Score: %.2f RMSE' % (trainScore))"
   ]
  },
  {
   "cell_type": "markdown",
   "metadata": {},
   "source": [
    "### Step 8: Visualize"
   ]
  },
  {
   "cell_type": "code",
   "execution_count": 17,
   "metadata": {
    "collapsed": false
   },
   "outputs": [
    {
     "name": "stdout",
     "output_type": "stream",
     "text": [
      "Visualize results\n"
     ]
    },
    {
     "data": {
      "image/png": "[encoded data removed]",
      "text/plain": [
       "<matplotlib.figure.Figure at 0x285017fd588>"
      ]
     },
     "metadata": {},
     "output_type": "display_data"
    },
    {
     "data": {
      "image/png": "[encoded data removed]",
      "text/plain": [
       "<matplotlib.figure.Figure at 0x285019b4f98>"
      ]
     },
     "metadata": {},
     "output_type": "display_data"
    }
   ],
   "source": [
    "print('Visualize results')\n",
    "\n",
    "# shift train predictions for plotting\n",
    "trainPredictPlot = np.empty_like(dataset_norm) # create array with same shape as dataset\n",
    "trainPredictPlot[:, :] = np.nan # fill with nan\n",
    "trainPredictPlot[timesteps:len(trainPredict) + timesteps, :] = trainPredict\n",
    "\n",
    "# shift test predictions for plotting\n",
    "testPredictPlot = np.empty_like(dataset_norm) # create array with same shape as dataset\n",
    "testPredictPlot[:, :] = np.nan # fill with nan\n",
    "test = ['nan']\n",
    "test = np.reshape(test, (len(test), 1))\n",
    "testPredictPlot = np.append(testPredictPlot, test, 0)\n",
    "testPredictPlot[len(trainPredict) + timesteps:len(dataset_norm) + 1, :] = testPredict\n",
    "\n",
    "# plot baseline and predictions\n",
    "plt.figure(figsize=(15,4))\n",
    "plt.title('All Data')\n",
    "plt.plot(scaler.inverse_transform(dataset_norm), color='b', label='Actual')\n",
    "plt.plot(trainPredictPlot, color='g', label='Training')\n",
    "plt.plot(testPredictPlot, color='r', label='Prediction')\n",
    "plt.grid(True)\n",
    "plt.grid(b=True, which='minor', axis='both')\n",
    "plt.minorticks_on()\n",
    "plt.legend()\n",
    "plt.show()\n",
    "\n",
    "# zoom in on the test predictions\n",
    "plt.figure(figsize=(15,4))\n",
    "plt.title('Test Predictions')\n",
    "\n",
    "testYPlot = np.reshape(testY, [testY.shape[1], 1]) # testY is [0, n] need to change shape to [n, 0] to plot it\n",
    "testYPlot = testYPlot[testYPlot.shape[0] - len(testPredict) + 1:testYPlot.shape[0]] # +1, because testY has one less value than testPredict\n",
    "plt.plot(testYPlot, color='b', label='testY')\n",
    "testPredictPlot = testPredict[len(testPredict) - len(testPredict):len(testPredict), :]\n",
    "plt.plot(testPredictPlot, color='r', label='Prediction')\n",
    "plt.grid(True)\n",
    "plt.grid(b=True, which='minor', axis='both')\n",
    "plt.minorticks_on()\n",
    "plt.legend()\n",
    "plt.show()"
   ]
  },
  {
   "cell_type": "code",
   "execution_count": null,
   "metadata": {
    "collapsed": true
   },
   "outputs": [],
   "source": []
  }
 ],
 "metadata": {
  "kernelspec": {
   "display_name": "Python 3",
   "language": "python",
   "name": "python3"
  },
  "language_info": {
   "codemirror_mode": {
    "name": "ipython",
    "version": 3
   },
   "file_extension": ".py",
   "mimetype": "text/x-python",
   "name": "python",
   "nbconvert_exporter": "python",
   "pygments_lexer": "ipython3",
   "version": "3.5.2"
  }
 },
 "nbformat": 4,
 "nbformat_minor": 2
}
